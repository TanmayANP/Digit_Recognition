{
  "nbformat": 4,
  "nbformat_minor": 0,
  "metadata": {
    "colab": {
      "name": "digit_recognition.ipynb",
      "provenance": [],
      "collapsed_sections": [],
      "toc_visible": true,
      "authorship_tag": "ABX9TyMYbrNxfswqymKeVnSot6UY",
      "include_colab_link": true
    },
    "kernelspec": {
      "display_name": "Python 3",
      "name": "python3"
    },
    "language_info": {
      "name": "python"
    },
    "accelerator": "GPU"
  },
  "cells": [
    {
      "cell_type": "markdown",
      "metadata": {
        "id": "view-in-github",
        "colab_type": "text"
      },
      "source": [
        "<a href=\"https://colab.research.google.com/github/TanmayANP/Digit_Recognition/blob/main/digit_recognition.ipynb\" target=\"_parent\"><img src=\"https://colab.research.google.com/assets/colab-badge.svg\" alt=\"Open In Colab\"/></a>"
      ]
    },
    {
      "cell_type": "markdown",
      "metadata": {
        "id": "Z2wLmSe62aE9"
      },
      "source": [
        "# Standard imports and load dataset"
      ]
    },
    {
      "cell_type": "code",
      "metadata": {
        "id": "pa-iMR1NXqeM",
        "colab": {
          "base_uri": "https://localhost:8080/"
        },
        "outputId": "19a12b13-b213-4c5e-976f-f42141f30078"
      },
      "source": [
        "# Import libraries\n",
        "import numpy as np\n",
        "import pandas as pd\n",
        "import matplotlib as mpl\n",
        "import matplotlib.pyplot as plt\n",
        "import tensorflow as tf\n",
        "import tensorflow.keras as keras\n",
        "from tensorflow.keras.preprocessing.image import ImageDataGenerator\n",
        "\n",
        "# Load MNIST dataset\n",
        "(X_train_full, y_train_full), (X_test, y_test) = keras.datasets.mnist.load_data()\n",
        "print('The shape of training set is :', X_train_full.shape)"
      ],
      "execution_count": 1,
      "outputs": [
        {
          "output_type": "stream",
          "name": "stdout",
          "text": [
            "Downloading data from https://storage.googleapis.com/tensorflow/tf-keras-datasets/mnist.npz\n",
            "11493376/11490434 [==============================] - 0s 0us/step\n",
            "11501568/11490434 [==============================] - 0s 0us/step\n",
            "The shape of training set is : (60000, 28, 28)\n"
          ]
        }
      ]
    },
    {
      "cell_type": "markdown",
      "metadata": {
        "id": "txkWY-6J2zqb"
      },
      "source": [
        "# Spliting the dataset into train, test and validation sets"
      ]
    },
    {
      "cell_type": "code",
      "metadata": {
        "id": "Ok51butAX2b1"
      },
      "source": [
        "# Train, test, valid split\n",
        "X_train, X_val = X_train_full[5000:]/255.0, X_train_full[:5000]/255.0\n",
        "y_train, y_val = y_train_full[5000:], y_train_full[:5000]\n",
        "X_test = X_test/255.0\n",
        "\n",
        "# Create channel for gray scale\n",
        "X_train = X_train[..., np.newaxis]\n",
        "X_val = X_val[..., np.newaxis]\n",
        "X_test = X_test[..., np.newaxis]"
      ],
      "execution_count": 2,
      "outputs": []
    },
    {
      "cell_type": "code",
      "metadata": {
        "colab": {
          "base_uri": "https://localhost:8080/",
          "height": 248
        },
        "id": "wR0iW97htcVc",
        "outputId": "f9d1b7a3-2f2f-40bf-ae70-5a80839447bd"
      },
      "source": [
        "# Visualizing single digit\n",
        "img = X_train[0]\n",
        "plt.imshow(img.reshape((28, 28)), cmap=mpl.cm.binary)\n",
        "plt.axis('off')\n",
        "plt.show()"
      ],
      "execution_count": 3,
      "outputs": [
        {
          "output_type": "display_data",
          "data": {
            "image/png": "[encoded data removed]",
            "text/plain": [
              "<Figure size 432x288 with 1 Axes>"
            ]
          },
          "metadata": {
            "needs_background": "light"
          }
        }
      ]
    },
    {
      "cell_type": "code",
      "metadata": {
        "id": "3OMg_-toyG06",
        "colab": {
          "base_uri": "https://localhost:8080/",
          "height": 89
        },
        "outputId": "3c626246-acd6-455e-a4c7-31c1d4068ada"
      },
      "source": [
        "# Visualizing multiple digits\n",
        "n_images = 5\n",
        "for i in range(n_images):\n",
        "  plt.subplot(1, n_images, i+1)\n",
        "  img = X_train[i]\n",
        "  plt.imshow(img.reshape((28, 28)), cmap=mpl.cm.binary)\n",
        "  plt.axis('off')\n",
        "\n",
        "plt.show()"
      ],
      "execution_count": 4,
      "outputs": [
        {
          "output_type": "display_data",
          "data": {
            "image/png": "[encoded data removed]",
            "text/plain": [
              "<Figure size 432x288 with 5 Axes>"
            ]
          },
          "metadata": {
            "needs_background": "light"
          }
        }
      ]
    },
    {
      "cell_type": "markdown",
      "metadata": {
        "id": "dpcLtfr838L7"
      },
      "source": [
        "# Create and summarize model"
      ]
    },
    {
      "cell_type": "code",
      "metadata": {
        "id": "MqoNV9FkYq2G",
        "colab": {
          "base_uri": "https://localhost:8080/"
        },
        "outputId": "2343057c-4a70-47f9-f30d-f4889cbe9ab0"
      },
      "source": [
        "model = keras.models.Sequential(\n",
        "    [\n",
        "     keras.layers.Conv2D(10, 7, activation='relu', padding='same', input_shape=[28,28, 1]),\n",
        "     keras.layers.Conv2D(16, 6, activation='relu', padding='same'),\n",
        "     keras.layers.MaxPool2D(2),\n",
        "     keras.layers.Conv2D(64, 5, activation='relu', padding='same'),\n",
        "     keras.layers.MaxPool2D(2),\n",
        "     keras.layers.Conv2D(256, 4, activation='relu', padding='same'),\n",
        "     keras.layers.MaxPool2D(2),\n",
        "     keras.layers.Conv2D(256, 3, activation='relu'),\n",
        "     keras.layers.GlobalAveragePooling2D(),\n",
        "     keras.layers.Dropout(0.5),\n",
        "     keras.layers.Flatten(),\n",
        "     keras.layers.Dropout(0.5),\n",
        "     keras.layers.Dense(10, activation='softmax')\n",
        "    ]\n",
        ")\n",
        "\n",
        "model.summary()"
      ],
      "execution_count": 5,
      "outputs": [
        {
          "output_type": "stream",
          "name": "stdout",
          "text": [
            "Model: \"sequential\"\n",
            "_________________________________________________________________\n",
            "Layer (type)                 Output Shape              Param #   \n",
            "=================================================================\n",
            "conv2d (Conv2D)              (None, 28, 28, 10)        500       \n",
            "_________________________________________________________________\n",
            "conv2d_1 (Conv2D)            (None, 28, 28, 16)        5776      \n",
            "_________________________________________________________________\n",
            "max_pooling2d (MaxPooling2D) (None, 14, 14, 16)        0         \n",
            "_________________________________________________________________\n",
            "conv2d_2 (Conv2D)            (None, 14, 14, 64)        25664     \n",
            "_________________________________________________________________\n",
            "max_pooling2d_1 (MaxPooling2 (None, 7, 7, 64)          0         \n",
            "_________________________________________________________________\n",
            "conv2d_3 (Conv2D)            (None, 7, 7, 256)         262400    \n",
            "_________________________________________________________________\n",
            "max_pooling2d_2 (MaxPooling2 (None, 3, 3, 256)         0         \n",
            "_________________________________________________________________\n",
            "conv2d_4 (Conv2D)            (None, 1, 1, 256)         590080    \n",
            "_________________________________________________________________\n",
            "global_average_pooling2d (Gl (None, 256)               0         \n",
            "_________________________________________________________________\n",
            "dropout (Dropout)            (None, 256)               0         \n",
            "_________________________________________________________________\n",
            "flatten (Flatten)            (None, 256)               0         \n",
            "_________________________________________________________________\n",
            "dropout_1 (Dropout)          (None, 256)               0         \n",
            "_________________________________________________________________\n",
            "dense (Dense)                (None, 10)                2570      \n",
            "=================================================================\n",
            "Total params: 886,990\n",
            "Trainable params: 886,990\n",
            "Non-trainable params: 0\n",
            "_________________________________________________________________\n"
          ]
        }
      ]
    },
    {
      "cell_type": "markdown",
      "metadata": {
        "id": "hEIFiO7Z4OEr"
      },
      "source": [
        "# Datagenerator with on spot augmentation"
      ]
    },
    {
      "cell_type": "code",
      "metadata": {
        "id": "WT5xYUPlOI7W"
      },
      "source": [
        "train_datagen = ImageDataGenerator(rotation_range=30,\n",
        "                                   width_shift_range=2,\n",
        "                                   height_shift_range=2,\n",
        "                                   cval=0,\n",
        "                                   fill_mode='constant')\n",
        "\n",
        "valid_datagen = ImageDataGenerator()"
      ],
      "execution_count": 6,
      "outputs": []
    },
    {
      "cell_type": "code",
      "metadata": {
        "id": "1VdHk6F2f10o"
      },
      "source": [
        "train_datagen.fit(X_train)\n",
        "valid_datagen.fit(X_train)"
      ],
      "execution_count": 7,
      "outputs": []
    },
    {
      "cell_type": "markdown",
      "metadata": {
        "id": "7GNFDQ_Z4but"
      },
      "source": [
        "# Model fitting"
      ]
    },
    {
      "cell_type": "code",
      "metadata": {
        "colab": {
          "base_uri": "https://localhost:8080/"
        },
        "id": "2Pm2BwCjf0un",
        "outputId": "5832181c-3f3d-4011-c3f6-727d978417f4"
      },
      "source": [
        "# Learning rate scheduling\n",
        "lr_scheduler = keras.optimizers.schedules.ExponentialDecay(0.001, decay_steps=5000, decay_rate=0.5, staircase=True)\n",
        "optimizer = keras.optimizers.Adam(learning_rate=lr_scheduler)\n",
        "\n",
        "# Compiling model\n",
        "model.compile(loss='sparse_categorical_crossentropy', optimizer=optimizer, metrics=['accuracy'])\n",
        "\n",
        "# Early stopping callback\n",
        "early_stopping_cb = keras.callbacks.EarlyStopping(patience=10, restore_best_weights=True)\n",
        "\n",
        "# Model fitting\n",
        "history = model.fit(train_datagen.flow(X_train, y_train, batch_size=32),\n",
        "                    epochs=100,\n",
        "                    validation_data=valid_datagen.flow(X_val, y_val, batch_size=32),\n",
        "                    callbacks=[early_stopping_cb])"
      ],
      "execution_count": 8,
      "outputs": [
        {
          "output_type": "stream",
          "name": "stdout",
          "text": [
            "Epoch 1/100\n",
            "1719/1719 [==============================] - 68s 22ms/step - loss: 0.3630 - accuracy: 0.8866 - val_loss: 0.0670 - val_accuracy: 0.9806\n",
            "Epoch 2/100\n",
            "1719/1719 [==============================] - 37s 21ms/step - loss: 0.1107 - accuracy: 0.9703 - val_loss: 0.0509 - val_accuracy: 0.9846\n",
            "Epoch 3/100\n",
            "1719/1719 [==============================] - 37s 21ms/step - loss: 0.0859 - accuracy: 0.9766 - val_loss: 0.0312 - val_accuracy: 0.9924\n",
            "Epoch 4/100\n",
            "1719/1719 [==============================] - 37s 21ms/step - loss: 0.0590 - accuracy: 0.9847 - val_loss: 0.0255 - val_accuracy: 0.9936\n",
            "Epoch 5/100\n",
            "1719/1719 [==============================] - 38s 22ms/step - loss: 0.0507 - accuracy: 0.9863 - val_loss: 0.0244 - val_accuracy: 0.9936\n",
            "Epoch 6/100\n",
            "1719/1719 [==============================] - 37s 22ms/step - loss: 0.0464 - accuracy: 0.9873 - val_loss: 0.0247 - val_accuracy: 0.9938\n",
            "Epoch 7/100\n",
            "1719/1719 [==============================] - 37s 22ms/step - loss: 0.0363 - accuracy: 0.9907 - val_loss: 0.0211 - val_accuracy: 0.9946\n",
            "Epoch 8/100\n",
            "1719/1719 [==============================] - 37s 22ms/step - loss: 0.0315 - accuracy: 0.9914 - val_loss: 0.0213 - val_accuracy: 0.9950\n",
            "Epoch 9/100\n",
            "1719/1719 [==============================] - 38s 22ms/step - loss: 0.0317 - accuracy: 0.9916 - val_loss: 0.0177 - val_accuracy: 0.9948\n",
            "Epoch 10/100\n",
            "1719/1719 [==============================] - 37s 22ms/step - loss: 0.0265 - accuracy: 0.9924 - val_loss: 0.0199 - val_accuracy: 0.9944\n",
            "Epoch 11/100\n",
            "1719/1719 [==============================] - 37s 22ms/step - loss: 0.0248 - accuracy: 0.9936 - val_loss: 0.0163 - val_accuracy: 0.9960\n",
            "Epoch 12/100\n",
            "1719/1719 [==============================] - 38s 22ms/step - loss: 0.0236 - accuracy: 0.9932 - val_loss: 0.0158 - val_accuracy: 0.9964\n",
            "Epoch 13/100\n",
            "1719/1719 [==============================] - 38s 22ms/step - loss: 0.0219 - accuracy: 0.9942 - val_loss: 0.0150 - val_accuracy: 0.9962\n",
            "Epoch 14/100\n",
            "1719/1719 [==============================] - 37s 22ms/step - loss: 0.0203 - accuracy: 0.9944 - val_loss: 0.0156 - val_accuracy: 0.9960\n",
            "Epoch 15/100\n",
            "1719/1719 [==============================] - 38s 22ms/step - loss: 0.0201 - accuracy: 0.9946 - val_loss: 0.0160 - val_accuracy: 0.9962\n",
            "Epoch 16/100\n",
            "1719/1719 [==============================] - 38s 22ms/step - loss: 0.0176 - accuracy: 0.9951 - val_loss: 0.0166 - val_accuracy: 0.9956\n",
            "Epoch 17/100\n",
            "1719/1719 [==============================] - 38s 22ms/step - loss: 0.0183 - accuracy: 0.9951 - val_loss: 0.0158 - val_accuracy: 0.9958\n",
            "Epoch 18/100\n",
            "1719/1719 [==============================] - 38s 22ms/step - loss: 0.0181 - accuracy: 0.9953 - val_loss: 0.0152 - val_accuracy: 0.9958\n",
            "Epoch 19/100\n",
            "1719/1719 [==============================] - 37s 22ms/step - loss: 0.0174 - accuracy: 0.9954 - val_loss: 0.0157 - val_accuracy: 0.9958\n",
            "Epoch 20/100\n",
            "1719/1719 [==============================] - 38s 22ms/step - loss: 0.0142 - accuracy: 0.9960 - val_loss: 0.0158 - val_accuracy: 0.9964\n",
            "Epoch 21/100\n",
            "1719/1719 [==============================] - 38s 22ms/step - loss: 0.0154 - accuracy: 0.9955 - val_loss: 0.0157 - val_accuracy: 0.9962\n",
            "Epoch 22/100\n",
            "1719/1719 [==============================] - 38s 22ms/step - loss: 0.0163 - accuracy: 0.9958 - val_loss: 0.0154 - val_accuracy: 0.9964\n",
            "Epoch 23/100\n",
            "1719/1719 [==============================] - 38s 22ms/step - loss: 0.0169 - accuracy: 0.9958 - val_loss: 0.0155 - val_accuracy: 0.9960\n"
          ]
        }
      ]
    },
    {
      "cell_type": "markdown",
      "metadata": {
        "id": "IuftGyIb4jhv"
      },
      "source": [
        "# Visualizing learning curves"
      ]
    },
    {
      "cell_type": "code",
      "metadata": {
        "id": "ymvM2xgbB9p4",
        "colab": {
          "base_uri": "https://localhost:8080/",
          "height": 445
        },
        "outputId": "296db637-d7e1-426a-92ec-82f1370ccb4b"
      },
      "source": [
        "history_df = pd.DataFrame(history.history)\n",
        "print('Minimum validation loss: {}\\n\\n'.format(history_df['val_loss'].min()))\n",
        "\n",
        "# Learning curve is focused at the later stages of training\n",
        "history_df.loc[2:, ['loss', 'val_loss']].plot(title='Learning Curves', figsize=(12, 6));"
      ],
      "execution_count": 9,
      "outputs": [
        {
          "output_type": "stream",
          "name": "stdout",
          "text": [
            "Minimum validation loss: 0.014978068880736828\n",
            "\n",
            "\n"
          ]
        },
        {
          "output_type": "display_data",
          "data": {
            "image/png": "[encoded data removed]",
            "text/plain": [
              "<Figure size 864x432 with 1 Axes>"
            ]
          },
          "metadata": {
            "needs_background": "light"
          }
        }
      ]
    },
    {
      "cell_type": "code",
      "metadata": {
        "id": "0kJv-0UlDPKj",
        "colab": {
          "base_uri": "https://localhost:8080/",
          "height": 390
        },
        "outputId": "f4f3b6af-8c26-4e46-eb73-5fef7dbdd578"
      },
      "source": [
        "history_df.loc[2:, ['accuracy', 'val_accuracy']].plot(title='Accuracy', figsize=(12, 6));"
      ],
      "execution_count": 10,
      "outputs": [
        {
          "output_type": "display_data",
          "data": {
            "image/png": "[encoded data removed]",
            "text/plain": [
              "<Figure size 864x432 with 1 Axes>"
            ]
          },
          "metadata": {
            "needs_background": "light"
          }
        }
      ]
    },
    {
      "cell_type": "markdown",
      "metadata": {
        "id": "K3mmw6p94tYZ"
      },
      "source": [
        "# Score on test data"
      ]
    },
    {
      "cell_type": "code",
      "metadata": {
        "id": "v3wWVoFAhl5h",
        "colab": {
          "base_uri": "https://localhost:8080/"
        },
        "outputId": "ec1cff31-41ab-4354-e28d-c923e49ac4d0"
      },
      "source": [
        "print(model.evaluate(X_test, y_test))"
      ],
      "execution_count": 11,
      "outputs": [
        {
          "output_type": "stream",
          "name": "stdout",
          "text": [
            "313/313 [==============================] - 2s 7ms/step - loss: 0.0156 - accuracy: 0.9952\n",
            "[0.015619363635778427, 0.995199978351593]\n"
          ]
        }
      ]
    }
  ]
}